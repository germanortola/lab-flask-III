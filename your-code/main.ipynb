{
 "cells": [
  {
   "cell_type": "markdown",
   "id": "996eab79",
   "metadata": {},
   "source": [
    "![API](data:image/jpeg;base64,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)"
   ]
  },
  {
   "cell_type": "code",
   "execution_count": 14,
   "id": "35c5f971",
   "metadata": {},
   "outputs": [],
   "source": [
    "from flask import Flask, request, jsonify\n"
   ]
  },
  {
   "cell_type": "code",
   "execution_count": 20,
   "id": "82cc40f3",
   "metadata": {},
   "outputs": [],
   "source": [
    "app = Flask(__name__)\n",
    "#app.run"
   ]
  },
  {
   "cell_type": "code",
   "execution_count": 22,
   "id": "9d154044",
   "metadata": {},
   "outputs": [
    {
     "name": "stdout",
     "output_type": "stream",
     "text": [
      " * Serving Flask app '__main__'\n",
      " * Debug mode: on\n"
     ]
    },
    {
     "name": "stderr",
     "output_type": "stream",
     "text": [
      "WARNING: This is a development server. Do not use it in a production deployment. Use a production WSGI server instead.\n",
      " * Running on http://127.0.0.1:7070\n",
      "Press CTRL+C to quit\n",
      " * Restarting with stat\n"
     ]
    },
    {
     "ename": "SystemExit",
     "evalue": "1",
     "output_type": "error",
     "traceback": [
      "An exception has occurred, use %tb to see the full traceback.\n",
      "\u001b[1;31mSystemExit\u001b[0m\u001b[1;31m:\u001b[0m 1\n"
     ]
    },
    {
     "name": "stderr",
     "output_type": "stream",
     "text": [
      "c:\\Users\\germa\\miniconda3\\envs\\ironhack\\lib\\site-packages\\IPython\\core\\interactiveshell.py:3405: UserWarning: To exit: use 'exit', 'quit', or Ctrl-D.\n",
      "  warn(\"To exit: use 'exit', 'quit', or Ctrl-D.\", stacklevel=1)\n"
     ]
    }
   ],
   "source": [
    "if __name__ == \"__main__\":\n",
    "    app.run (port=7070)"
   ]
  },
  {
   "cell_type": "code",
   "execution_count": 17,
   "id": "c4d8898c",
   "metadata": {},
   "outputs": [],
   "source": [
    "@app.route(\"/\")\n",
    "\n",
    "def hello_world():\n",
    "    return \"Hello world!\""
   ]
  },
  {
   "cell_type": "code",
   "execution_count": null,
   "id": "95d90c7d",
   "metadata": {},
   "outputs": [],
   "source": []
  },
  {
   "cell_type": "code",
   "execution_count": null,
   "id": "81ea610a",
   "metadata": {},
   "outputs": [],
   "source": []
  }
 ],
 "metadata": {
  "kernelspec": {
   "display_name": "ironhack",
   "language": "python",
   "name": "python3"
  },
  "language_info": {
   "codemirror_mode": {
    "name": "ipython",
    "version": 3
   },
   "file_extension": ".py",
   "mimetype": "text/x-python",
   "name": "python",
   "nbconvert_exporter": "python",
   "pygments_lexer": "ipython3",
   "version": "3.10.4"
  },
  "toc": {
   "base_numbering": 1,
   "nav_menu": {},
   "number_sections": true,
   "sideBar": true,
   "skip_h1_title": false,
   "title_cell": "Table of Contents",
   "title_sidebar": "Contents",
   "toc_cell": false,
   "toc_position": {},
   "toc_section_display": true,
   "toc_window_display": false
  },
  "vscode": {
   "interpreter": {
    "hash": "4fb3542bd4955df1568bd30556108f2a509a772a1c7029bb09d83fc983cd9288"
   }
  }
 },
 "nbformat": 4,
 "nbformat_minor": 5
}
