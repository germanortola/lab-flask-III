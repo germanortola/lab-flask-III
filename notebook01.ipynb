{
 "cells": [
  {
   "cell_type": "code",
   "execution_count": null,
   "metadata": {},
   "outputs": [],
   "source": [
    "import requests"
   ]
  },
  {
   "cell_type": "code",
   "execution_count": null,
   "metadata": {},
   "outputs": [],
   "source": [
    "my_dict = {'emp_no': \"9999\", 'birth_date': \"1977-02-04\", \n",
    "           'first_name': \"German\", 'last_name': \"Ortola\", 'gender': \"M\", \n",
    "           'hire_date': \"1997-07-25\"}"
   ]
  },
  {
   "cell_type": "code",
   "execution_count": null,
   "metadata": {},
   "outputs": [],
   "source": [
    "requests.get(\"http://127.0.0.1:7071/random-number\", verify=False)"
   ]
  },
  {
   "cell_type": "code",
   "execution_count": null,
   "metadata": {},
   "outputs": [],
   "source": [
    "requests.post(\"http://127.0.0.1:7071/insert-into-employees\", params = my_dict)"
   ]
  },
  {
   "cell_type": "code",
   "execution_count": null,
   "metadata": {},
   "outputs": [],
   "source": []
  },
  {
   "cell_type": "code",
   "execution_count": null,
   "metadata": {},
   "outputs": [],
   "source": []
  }
 ],
 "metadata": {
  "kernelspec": {
   "display_name": "ironhack",
   "language": "python",
   "name": "ironhack"
  },
  "orig_nbformat": 4,
  "vscode": {
   "interpreter": {
    "hash": "e6d4027cb17e8961663900efe85d75c1802f698a9d1920dfa0eb43164d2cc4c6"
   }
  }
 },
 "nbformat": 4,
 "nbformat_minor": 2
}
